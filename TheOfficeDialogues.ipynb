{
 "cells": [
  {
   "cell_type": "markdown",
   "metadata": {},
   "source": [
    "# Learning what Michael (from The Office) speaks\n",
    "There script form The Office is available [here](http://officequotes.net/no2-10.php). Taking dialogues from S02E10, I want see what word2vec learns from it\n",
    "\n",
    "### Importing libraries"
   ]
  },
  {
   "cell_type": "code",
   "execution_count": 48,
   "metadata": {
    "collapsed": true
   },
   "outputs": [],
   "source": [
    "%matplotlib inline\n",
    "import pandas as pd\n",
    "import numpy as np\n",
    "import matplotlib.pyplot as plt\n",
    "\n",
    "import re\n",
    "import collections\n",
    "import tensorflow as tf"
   ]
  },
  {
   "cell_type": "markdown",
   "metadata": {},
   "source": [
    "### Loading data"
   ]
  },
  {
   "cell_type": "code",
   "execution_count": 49,
   "metadata": {
    "collapsed": true
   },
   "outputs": [],
   "source": [
    "# Loading data\n",
    "data = pd.read_csv('data/office_s02e10.csv', names=['Character','Dialogue'])"
   ]
  },
  {
   "cell_type": "code",
   "execution_count": 50,
   "metadata": {},
   "outputs": [
    {
     "data": {
      "text/plain": [
       "Michael                              94\n",
       "Dwight                               51\n",
       "Jim                                  27\n",
       "Pam                                  22\n",
       "Oscar                                20\n",
       "Ryan                                 18\n",
       "Kevin                                14\n",
       "Kelly                                13\n",
       "Darryl                               11\n",
       "Angela                               10\n",
       "Meredith                             10\n",
       "Creed                                 9\n",
       "Phyllis                               8\n",
       "Roy                                   8\n",
       "Toby                                  7\n",
       "Stanley                               5\n",
       "Todd Packer                           3\n",
       "Liquor Store Clerk                    2\n",
       "Bob Vance                             2\n",
       "JIm                                   1\n",
       "All                                   1\n",
       "Kevin & Oscar                         1\n",
       "Phyllis, Meredith, Michael, Kevin     1\n",
       "Name: Character, dtype: int64"
      ]
     },
     "execution_count": 50,
     "metadata": {},
     "output_type": "execute_result"
    }
   ],
   "source": [
    "# Looking at what we are working with\n",
    "data.Character.value_counts()\n",
    "# So we have 94 dialogues from Michael that we can word with"
   ]
  },
  {
   "cell_type": "markdown",
   "metadata": {},
   "source": [
    "### Manipulating data\n",
    "Here, we do several thing to ensure the text can be processed:\n",
    "1. Extract only diaolgues from Michael\n",
    "2. Convert to lower case\n",
    "3. Remove symbols"
   ]
  },
  {
   "cell_type": "code",
   "execution_count": 51,
   "metadata": {
    "collapsed": true
   },
   "outputs": [],
   "source": [
    "# Let us extract only Michael's words\n",
    "michael_says = data[data['Character'] == 'Michael']"
   ]
  },
  {
   "cell_type": "code",
   "execution_count": 52,
   "metadata": {},
   "outputs": [],
   "source": [
    "#pre processing the text \n",
    "\n",
    "def normalize_text(text):\n",
    "\n",
    "    text=text.lower()\n",
    "    text = re.sub('@[^\\s]+','', text)\n",
    "    text = re.sub('#([^\\s]+)', '', text)\n",
    "    text = re.sub('[:;>?<=*+()&,\\-#!$%\\{˜|\\}\\[^_\\\\@\\]1234567890’‘]',' ', text)\n",
    "    text = re.sub('[\\d]','', text)\n",
    "    text = text.replace(\".\", '')\n",
    "    text = text.replace(\"'\", '')\n",
    "    text = text.replace(\"`\", '')\n",
    "    text = text.replace(\"'s\", '')\n",
    "    text = text.replace(\"/\", ' ')\n",
    "    text = text.replace(\"\\\"\", ' ')\n",
    "    text = text.replace(\"\\\\\", '')\n",
    "    re.sub(' +', ' ', text)\n",
    "    text=text.replace('\\n', ' ').replace('\\r', ' ').replace('\\t', ' ')\n",
    "    #normalize some utf8 encoding\n",
    "    text = text.replace(\"\\x9d\",'').replace(\"\\x8c\",'')\n",
    "    text = text.replace(\"\\xc2\",'')\n",
    "    text = text.replace(\"\\xa0\",'')\n",
    "    text = text.replace(\"\\x9d\\x92\", '').replace(\"\\x9a\\xaa\\xf0\\x9f\\x94\\xb5\", '').replace(\"\\xf0\\x9f\\x91\\x8d\\x87\\xba\\xf0\\x9f\\x87\\xb8\", '').replace(\"\\x9f\",'').replace(\"\\x91\\x8d\",'')\n",
    "    text = text.replace(\"\\xf0\\x9f\\x87\\xba\\xf0\\x9f\\x87\\xb8\",'').replace(\"\\xf0\",'').replace('\\xf0x9f','').replace(\"\\x9f\\x91\\x8d\",'').replace(\"\\x87\\xba\\x87\\xb8\",'')\n",
    "    text = text.replace(\"\\xe2\\x80\\x94\",'').replace(\"\\x9d\\xa4\",'').replace(\"\\x96\\x91\",'').replace(\"\\xe1\\x91\\xac\\xc9\\x8c\\xce\\x90\\xc8\\xbb\\xef\\xbb\\x89\\xd4\\xbc\\xef\\xbb\\x89\\xc5\\xa0\\xc5\\xa0\\xc2\\xb8\",'')\n",
    "    text = text.replace(\"\\xe2\\x80\\x99s\", \"\").replace(\"\\xe2\\x80\\x98\", '').replace(\"\\xe2\\x80\\x99\", '').replace(\"\\xe2\\x80\\x9c\", \"\").replace(\"\\xe2\\x80\\x9d\", \"\")\n",
    "    text = text.replace(\"\\xe2\\x82\\xac\", \"\").replace(\"\\xc2\\xa3\", \"\").replace(\"\\xc2\\xa0\", \"\").replace(\"\\xc2\\xab\", \"\").replace(\"\\xf0\\x9f\\x94\\xb4\", \"\").replace(\"\\xf0\\x9f\\x87\\xba\\xf0\\x9f\\x87\\xb8\\xf0\\x9f\", \"\")\n",
    "    text =  re.sub(r\"\\b[a-z]\\b\", \"\", text)\n",
    "    text=re.sub( '\\s+', ' ', text).strip()\n",
    "    \n",
    "    text=re.sub(r'\\.+', \".\", text)\n",
    "    text=re.sub(r'\\.\\.+', ' ', text).replace('.', '')\n",
    "    # Replace multiple dots with space\n",
    "    text = re.sub('\\.\\.+', ' ', text) \n",
    "    # Remove single dots\n",
    "    text = re.sub('\\.', '', text)\n",
    "    text = re.sub(r'\\.{2,}', ' ', text)\n",
    "    text = re.sub(r'\\.{1}', '', text)\n",
    "    \n",
    "    return text"
   ]
  },
  {
   "cell_type": "code",
   "execution_count": 53,
   "metadata": {
    "collapsed": true
   },
   "outputs": [],
   "source": [
    "sentences = michael_says[\"Dialogue\"].tolist()\n",
    "normalized_sentences = []\n",
    "for sentence in sentences:\n",
    "    norm_sent=normalize_text(sentence)\n",
    "    normalized_sentences.append(norm_sent)"
   ]
  },
  {
   "cell_type": "markdown",
   "metadata": {},
   "source": [
    "### Making a word dictionary"
   ]
  },
  {
   "cell_type": "code",
   "execution_count": 54,
   "metadata": {},
   "outputs": [
    {
     "name": "stdout",
     "output_type": "stream",
     "text": [
      "('Word count of top 5 words', [('the', 44), ('you', 40), ('it', 39), ('to', 34), ('and', 28)])\n"
     ]
    }
   ],
   "source": [
    "# sentences to words and count\n",
    "words=\" \".join(normalized_sentences).split() \n",
    "count= collections.Counter(words).most_common() \n",
    "print (\"Word count of top 5 words\", count[:5])"
   ]
  },
  {
   "cell_type": "code",
   "execution_count": 55,
   "metadata": {},
   "outputs": [
    {
     "name": "stdout",
     "output_type": "stream",
     "text": [
      "Size of current vocabulary = 474\n"
     ]
    }
   ],
   "source": [
    "# Building dictionaries\n",
    "unique_words =  [i[0] for i in count]\n",
    "dic = {w: i for i, w in enumerate(unique_words)} #dic, word -> id cats:0 dogs:1 ......\n",
    "voc_size = len(dic)\n",
    "print \"Size of current vocabulary = %d\" %(voc_size)"
   ]
  },
  {
   "cell_type": "code",
   "execution_count": 56,
   "metadata": {},
   "outputs": [
    {
     "name": "stdout",
     "output_type": "stream",
     "text": [
      "('Sample data', [47, 16, 27, 13, 162, 6, 6, 76, 2, 421], ['here', 'we', 'are', 'oh', 'god', 'no', 'no', 'turn', 'it', 'around'])\n"
     ]
    }
   ],
   "source": [
    "# Make list with the indices of every word\n",
    "data = [dic[word] for word in words] \n",
    "print('Sample data', data[:10], words[:10])\n"
   ]
  },
  {
   "cell_type": "markdown",
   "metadata": {},
   "source": [
    "### Making a CBOW model (context size = 1 around)"
   ]
  },
  {
   "cell_type": "code",
   "execution_count": 57,
   "metadata": {},
   "outputs": [
    {
     "name": "stdout",
     "output_type": "stream",
     "text": [
      "('Context pairs rank ids', [[[47, 27], 16], [[16, 13], 27], [[27, 162], 13], [[13, 6], 162], [[162, 6], 6]])\n",
      "()\n",
      "('Context pairs words', [[['here', 'are'], 'we'], [['we', 'oh'], 'are'], [['are', 'god'], 'oh'], [['oh', 'no'], 'god'], [['god', 'no'], 'no']])\n"
     ]
    }
   ],
   "source": [
    "cbow_pairs = []\n",
    "for i in range(1, len(data)-1) :\n",
    "    cbow_pairs.append([[data[i-1], data[i+1]], data[i]]);\n",
    "    \n",
    "print('Context pairs rank ids', cbow_pairs[:5])\n",
    "print()\n",
    "\n",
    "cbow_pairs_words = []\n",
    "for i in range(1, len(words)-1) :\n",
    "    cbow_pairs_words.append([[words[i-1], words[i+1]], words[i]])\n",
    "print('Context pairs words', cbow_pairs_words[:5])"
   ]
  },
  {
   "cell_type": "markdown",
   "metadata": {},
   "source": [
    "### Making skip-gram pairs"
   ]
  },
  {
   "cell_type": "code",
   "execution_count": 58,
   "metadata": {},
   "outputs": [
    {
     "name": "stdout",
     "output_type": "stream",
     "text": [
      "('skip-gram pairs', [[16, 47], [16, 27], [27, 16], [27, 13], [13, 27]])\n",
      "()\n",
      "('skip-gram pairs words', [['we', 'here'], ['we', 'are'], ['are', 'we'], ['are', 'oh'], ['oh', 'are']])\n"
     ]
    }
   ],
   "source": [
    "skip_gram_pairs=[]\n",
    "\n",
    "for c in cbow_pairs:\n",
    "    skip_gram_pairs.append([c[1],c[0][0]])\n",
    "    skip_gram_pairs.append([c[1],c[0][1]])\n",
    "print('skip-gram pairs', skip_gram_pairs[:5])\n",
    "print()\n",
    "skip_gram_pairs_words=[]\n",
    "for c in cbow_pairs_words:\n",
    "    skip_gram_pairs_words.append([c[1],c[0][0]])\n",
    "    skip_gram_pairs_words.append([c[1],c[0][1]])\n",
    "print('skip-gram pairs words', skip_gram_pairs_words[:5])"
   ]
  },
  {
   "cell_type": "markdown",
   "metadata": {},
   "source": [
    "### Training model"
   ]
  },
  {
   "cell_type": "code",
   "execution_count": 59,
   "metadata": {},
   "outputs": [
    {
     "name": "stdout",
     "output_type": "stream",
     "text": [
      "('Batches (x, y)', ([118, 3, 198], [[63], [4], [243]]))\n"
     ]
    }
   ],
   "source": [
    "def get_batch(size):\n",
    "    assert size<len(skip_gram_pairs)\n",
    "    X=[]\n",
    "    Y=[]\n",
    "    rdm = np.random.choice(range(len(skip_gram_pairs)),size,replace=False)\n",
    "    \n",
    "    for r in rdm:\n",
    "        X.append(skip_gram_pairs[r][0])\n",
    "        Y.append([skip_gram_pairs[r][1]])\n",
    "    return X , Y\n",
    "\n",
    "# generate_batch test\n",
    "print ('Batches (x, y)', get_batch(3))"
   ]
  },
  {
   "cell_type": "code",
   "execution_count": 60,
   "metadata": {
    "collapsed": true
   },
   "outputs": [],
   "source": [
    "batch_size = 20\n",
    "embedding_size = 2\n",
    "num_sampled = 15    # Number of negative examples to sample.\n",
    "\n",
    "X= tf.placeholder(tf.int32,shape=[batch_size]) #inputs\n",
    "Y= tf.placeholder(tf.int32,shape=[batch_size,1]) #labels\n",
    "\n",
    "with tf.device(\"/cpu:0\"):\n",
    "      # Look up embeddings for inputs.\n",
    "    embeddings = tf.Variable(tf.random_uniform([voc_size,embedding_size],-1.0,1.0))\n",
    "    embed = tf.nn.embedding_lookup(embeddings, X) # lookup table\n",
    "    \n",
    "# Construct the variables for the NCE loss\n",
    "nce_weights = tf.Variable(tf.random_uniform([voc_size, embedding_size],-1.0, 1.0))\n",
    "nce_biases = tf.Variable(tf.zeros([voc_size]))\n",
    "\n",
    "# Compute the average NCE loss for the batch.\n",
    "# This does the magic:\n",
    "#   tf.nn.nce_loss(weights, biases, inputs, labels, num_sampled, num_classes ...)\n",
    "# It automatically draws negative samples when we evaluate the loss.\n",
    "loss = tf.reduce_mean(tf.nn.nce_loss(nce_weights, nce_biases, Y, embed, num_sampled, voc_size))\n",
    "# Use the adam optimizer\n",
    "optimizer = tf.train.AdamOptimizer(1e-1).minimize(loss)"
   ]
  },
  {
   "cell_type": "code",
   "execution_count": 61,
   "metadata": {},
   "outputs": [
    {
     "name": "stdout",
     "output_type": "stream",
     "text": [
      "('Loss at ', 0, 39.945152)\n",
      "('Loss at ', 1000, 4.7807636)\n",
      "('Loss at ', 2000, 3.1857991)\n",
      "('Loss at ', 3000, 4.1901145)\n",
      "('Loss at ', 4000, 3.4615211)\n",
      "('Loss at ', 5000, 3.8165126)\n",
      "('Loss at ', 6000, 4.10783)\n",
      "('Loss at ', 7000, 3.6879299)\n",
      "('Loss at ', 8000, 3.9120915)\n",
      "('Loss at ', 9000, 3.384709)\n"
     ]
    }
   ],
   "source": [
    "epochs=10000\n",
    "with tf.Session() as sess:\n",
    "    sess.run(tf.global_variables_initializer())\n",
    "    \n",
    "    for epoch in range(epochs):\n",
    "        \n",
    "        batch_inputs, batch_labels = get_batch(batch_size)\n",
    "        _,loss_val=sess.run([optimizer,loss],feed_dict = {X : batch_inputs, Y : batch_labels })\n",
    "        \n",
    "        if epoch % 1000 == 0:\n",
    "            print(\"Loss at \", epoch, loss_val) # Report the loss\n",
    "    \n",
    "    # Final embeddings are ready for you to use. Need to normalize for practical use\n",
    "    trained_embeddings = embeddings.eval()\n",
    "    \n",
    "\n",
    "\n"
   ]
  },
  {
   "cell_type": "markdown",
   "metadata": {},
   "source": [
    "### Visualizing embeddings"
   ]
  },
  {
   "cell_type": "code",
   "execution_count": 62,
   "metadata": {},
   "outputs": [
    {
     "data": {
      "image/png": "[encoded data removed]",
      "text/plain": [
       "<Figure size 432x288 with 1 Axes>"
      ]
     },
     "metadata": {
      "needs_background": "light"
     },
     "output_type": "display_data"
    },
    {
     "data": {
      "image/png": "[encoded data removed]",
      "text/plain": [
       "<Figure size 432x288 with 1 Axes>"
      ]
     },
     "metadata": {
      "needs_background": "light"
     },
     "output_type": "display_data"
    }
   ],
   "source": [
    "\n",
    "if trained_embeddings.shape[1] == 2:\n",
    "    labels = unique_words[:50] # Show top 10 words\n",
    "    for i, label in enumerate(labels):\n",
    "        x, y = trained_embeddings[i,:]\n",
    "        plt.scatter(x, y)\n",
    "        plt.annotate(label, xy=(x, y), xytext=(5, 2),\n",
    "            textcoords='offset points', ha='right', va='bottom')\n",
    "    plt.show()\n",
    "    \n",
    "\n",
    "if trained_embeddings.shape[1] == 2:\n",
    "    labels = unique_words[30:60] # Show top 10 words\n",
    "    for i, label in enumerate(labels):\n",
    "        x, y = trained_embeddings[i,:]\n",
    "        plt.scatter(x, y)\n",
    "        plt.annotate(label, xy=(x, y), xytext=(5, 2),\n",
    "            textcoords='offset points', ha='right', va='bottom')\n",
    "\n",
    "    plt.show()"
   ]
  },
  {
   "cell_type": "markdown",
   "metadata": {},
   "source": [
    "See more about TSNE here: https://towardsdatascience.com/learn-word2vec-by-implementing-it-in-tensorflow-45641adaf2ac"
   ]
  },
  {
   "cell_type": "code",
   "execution_count": null,
   "metadata": {
    "collapsed": true
   },
   "outputs": [],
   "source": []
  },
  {
   "cell_type": "code",
   "execution_count": null,
   "metadata": {
    "collapsed": true
   },
   "outputs": [],
   "source": []
  }
 ],
 "metadata": {
  "kernelspec": {
   "display_name": "Python 2",
   "language": "python",
   "name": "python2"
  },
  "language_info": {
   "codemirror_mode": {
    "name": "ipython",
    "version": 2
   },
   "file_extension": ".py",
   "mimetype": "text/x-python",
   "name": "python",
   "nbconvert_exporter": "python",
   "pygments_lexer": "ipython2",
   "version": "2.7.15"
  }
 },
 "nbformat": 4,
 "nbformat_minor": 2
}
